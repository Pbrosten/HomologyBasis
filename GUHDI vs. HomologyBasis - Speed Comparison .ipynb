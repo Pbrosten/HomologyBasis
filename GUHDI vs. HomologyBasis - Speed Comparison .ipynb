{
 "cells": [
  {
   "cell_type": "code",
   "execution_count": null,
   "metadata": {},
   "outputs": [],
   "source": [
    "import HomologyBasis as HB\n",
    "from divisivegater.simplex_tree import SimplexTree\n",
    "import numpy as np\n",
    "import matplotlib.pyplot as plt\n",
    "from matplotlib.backends.backend_pdf import PdfPages\n",
    "from itertools import combinations\n",
    "import time"
   ]
  },
  {
   "cell_type": "code",
   "execution_count": null,
   "metadata": {},
   "outputs": [],
   "source": [
    "filename = 'dragon_vrips_2000.txt'\n",
    "data = np.loadtxt('data/benchmarks/dragon_vrip.ply.txt_2000_.txt')\n",
    "\n",
    "def persistence_check(pairs1,pairs2):\n",
    "    for i in pairs1:\n",
    "        for pair in pairs1[i]:\n",
    "            if pair not in pairs2[i]:\n",
    "                return False\n",
    "    return True"
   ]
  },
  {
   "cell_type": "code",
   "execution_count": null,
   "metadata": {},
   "outputs": [],
   "source": [
    "max_dimension=2\n",
    "\n",
    "HB_time=list()\n",
    "ST_time=list()\n",
    "iterations=list()\n",
    "\n",
    "for n in range(100,301,5):\n",
    "    X=list([list(data[i]) for i in range(0,n)])\n",
    "    maximal_faces=[list(sigma) for sigma in combinations(range(0,len(X)),max_dimension+1)]\n",
    "\n",
    "    simplicial_complex = HB.simplicial_complex_from_maximal_faces(\n",
    "        maximal_faces=maximal_faces, \n",
    "        max_dimension=max_dimension)\n",
    "\n",
    "    filt_fct = HB.dictionary_filtration_function(\n",
    "        simplicial_complex=simplicial_complex,\n",
    "        filtration_value_function=HB.rips_filtration_function(X))\n",
    "\n",
    "    degreewise_ordered_simplicial_complex = HB.degreewise_ordered_complex(simplicial_complex, filt_fct)\n",
    "\n",
    "    start_HB=time.time()\n",
    "    phom = HB.filtered_homology_basis(degreewise_ordered_simplicial_complex, \n",
    "                                max_face_card=max_dimension + 1, \n",
    "                                coeff_field=11)\n",
    "    persistent_homology_pairs = HB.persistence_pairs(\n",
    "        homology_basis=phom,\n",
    "        filtration_function=filt_fct,\n",
    "        max_dimension=max_dimension)\n",
    "    total_HB=(time.time()-start_HB)\n",
    "    \n",
    "    start_ST=time.time()\n",
    "    ST = SimplexTree()\n",
    "    for simplices in simplicial_complex:\n",
    "        for face in simplices:\n",
    "            st.insert(face, filt_fct(face))        \n",
    "    persistent_homology_pairs_st = {index: pairs for index, pairs in enumerate(st.persistent_homology(coeff_field=11))}\n",
    "    total_ST=(time.time()-start_ST)\n",
    "\n",
    "    if persistence_check(persistent_homology_pairs_st,persistent_homology_pairs)==False:\n",
    "        print('Fail')\n",
    "        break\n",
    "\n",
    "    HB_time.append(total_HB)\n",
    "    ST_time.append(total_ST)\n",
    "    iterations.append(n)"
   ]
  }
 ],
 "metadata": {
  "kernelspec": {
   "display_name": "Python 3",
   "language": "python",
   "name": "python3"
  },
  "language_info": {
   "codemirror_mode": {
    "name": "ipython",
    "version": 3
   },
   "file_extension": ".py",
   "mimetype": "text/x-python",
   "name": "python",
   "nbconvert_exporter": "python",
   "pygments_lexer": "ipython3",
   "version": "3.7.4"
  }
 },
 "nbformat": 4,
 "nbformat_minor": 2
}
