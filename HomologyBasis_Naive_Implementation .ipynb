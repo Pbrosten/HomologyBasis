{
 "cells": [
  {
   "cell_type": "code",
   "execution_count": 1,
   "metadata": {},
   "outputs": [],
   "source": [
    "from itertools import combinations\n",
    "import numpy as np"
   ]
  },
  {
   "cell_type": "code",
   "execution_count": 2,
   "metadata": {},
   "outputs": [],
   "source": [
    "# Convert to chain complex\n",
    "XF={(0,):0,(1,):0,(2,):0,(3,):0,(4,):0,(5,):0,(0,1):1,(0,2):1.1,(1,2):1.2,(1, 3):1.3,(4, 5):1.4,\n",
    "   (1, 4):1.5,(2, 4):1.6,(3, 4):1.8,(2, 5):1.7,(0,1,2):2,(1, 3,4):2.1,(2, 4,5):2.2}"
   ]
  },
  {
   "cell_type": "raw",
   "metadata": {},
   "source": [
    "X=[(0,), (1,), (2,), (3,), (4,), (5,), (0, 1), (1, 2), (1, 3), (4, 5),\n",
    "    (1, 4), (2, 4), (2, 5), (3, 4), (0, 2), (0, 1, 2), (2, 4, 5),\n",
    "    (1, 3, 4)]"
   ]
  },
  {
   "cell_type": "code",
   "execution_count": 3,
   "metadata": {},
   "outputs": [],
   "source": [
    "def field_inversion(coeff_field):\n",
    "    def inverse(a, n):\n",
    "        for x in range(n):\n",
    "            if (a * x) % n == 1:\n",
    "                return x\n",
    "    inversion_table = [\n",
    "        inverse(a + 1, coeff_field) for a in range(coeff_field - 1)]\n",
    "    def inversion_fct(a):\n",
    "        return inversion_table[a-1]\n",
    "    return inversion_fct"
   ]
  },
  {
   "cell_type": "markdown",
   "metadata": {},
   "source": [
    "Conversion of Filtered Simplicial Complex to Totally Filtered Chain Complex"
   ]
  },
  {
   "cell_type": "code",
   "execution_count": 4,
   "metadata": {},
   "outputs": [],
   "source": [
    "def chain_complex_conversion(XF,k):#order simplices by filtration, construct vector space\n",
    "    def filt_fct(sigma):\n",
    "        return XF[sigma]\n",
    "    ordered_simplices=sorted(list(XF.keys()),key=filt_fct)\n",
    "    \n",
    "    simplices=dict((sigma,i) for i,sigma in enumerate(ordered_simplices))\n",
    "    indices=dict((i,sigma) for i,sigma in enumerate(ordered_simplices))\n",
    "    vspace=dict((sigma,(sigma,1)) for sigma in ordered_simplices)\n",
    "    \n",
    "    def deg(n):\n",
    "        sigma=indices[n]\n",
    "        return len(sigma)-1\n",
    "\n",
    "    def bound(n):\n",
    "        sigma=indices[n]\n",
    "        boundary=list(combinations(sigma,len(sigma)-1))\n",
    "        vboundary=[simplices[face] for face in boundary]\n",
    "        return list(vboundary)\n",
    "    \n",
    "    totally_filtered_chain_complex=dict((('free Vspace',vspace),\n",
    "                                        ('functions',(deg,bound)),\n",
    "                                        ('coeff field',k),\n",
    "                                        ('inversion field',field_inversion(k)),\n",
    "                                        ('indices',indices),\n",
    "                                        ('simplices',simplices)))\n",
    "    \n",
    "    return totally_filtered_chain_complex"
   ]
  },
  {
   "cell_type": "markdown",
   "metadata": {},
   "source": [
    "Extend Homology Basis"
   ]
  },
  {
   "cell_type": "code",
   "execution_count": 5,
   "metadata": {},
   "outputs": [],
   "source": [
    "def homology_basis_extension(ttfc,P,f,i):\n",
    "    P.append(i)\n",
    "    f[i]=frozenset(((i, 1),))\n",
    "    return (P,f)"
   ]
  },
  {
   "cell_type": "markdown",
   "metadata": {},
   "source": [
    "Determine the Image of the Boundary of Given Simplex under Prior Basis"
   ]
  },
  {
   "cell_type": "code",
   "execution_count": 6,
   "metadata": {},
   "outputs": [],
   "source": [
    "def boundary_under_basis(bound,keys,f,coeff_field,i):\n",
    "    v=dict()\n",
    "    \n",
    "    boundary=bound(i)\n",
    "    boundary_under_f=set.intersection(set(boundary),set(keys))\n",
    "    for face in boundary_under_f:\n",
    "        for h_face,h_value in f[face]:\n",
    "            val=(v.pop(h_face,0)+(-1)**boundary.index(face)*h_value)%coeff_field\n",
    "                \n",
    "            if val>0:\n",
    "                v[h_face]=val\n",
    "    if not v:\n",
    "        return False\n",
    "    else:\n",
    "        return v"
   ]
  },
  {
   "cell_type": "markdown",
   "metadata": {},
   "source": [
    "Contract Homology Basis"
   ]
  },
  {
   "cell_type": "code",
   "execution_count": 7,
   "metadata": {},
   "outputs": [],
   "source": [
    "def homology_basis_contraction(ttfc,bub,P,f,R,keys,indices,i):\n",
    "    support=set(bub)\n",
    "    lowv=max(support)\n",
    "    P.remove(lowv)\n",
    "    #f=f for dimension<d is trivially fulfilled\n",
    "    #print('before pi: '+str(f))\n",
    "    f,R,keys,indices=pi_transformation(ttfc,bub,support,f,R,keys,indices,lowv)\n",
    "    #print('after pi: '+str(f))\n",
    "    return (P,f,R,keys,indices,lowv)"
   ]
  },
  {
   "cell_type": "markdown",
   "metadata": {},
   "source": [
    "Elimination of lowv from basis k{P_{i-1}}"
   ]
  },
  {
   "cell_type": "code",
   "execution_count": 8,
   "metadata": {},
   "outputs": [],
   "source": [
    "def pi_transformation(ttfc,bub,support,f,R,keys,indices,lowv):\n",
    "    inverselowv=ttfc['inversion field'](bub[lowv])\n",
    "    support.remove(lowv),bub.pop(lowv)\n",
    "            \n",
    "    v={tau:(val*inverselowv)%ttfc['coeff field'] for tau,val in bub.items()}# v/v_{l}\n",
    "    things=R.pop(lowv)\n",
    "    #print('R.pop(lowv): '+str(things))\n",
    "    for col,val in things: #Identify which basis function will be affected by pi transformation\n",
    "        #print('col,val: '+str(col)+', '+str(val))\n",
    "        col_wo=dict(f[col])\n",
    "        col_wo.pop(lowv) #the transformation is designed to kill lowv, so no computation necessary\n",
    "        \n",
    "        if not col_wo: #the case when w_{l} is zero so we know exactly what happens under pi transform\n",
    "            reduced={tau:(-val*value)%ttfc['coeff field'] for tau,value in v.items()} #0-(w_{l}/v_{l})v term\n",
    "        else:\n",
    "            v_mult={tau:(-val*value)%ttfc['coeff field'] for tau,value in v.items()}\n",
    "            red= col_wo.copy()\n",
    "            red.update(v_mult)\n",
    "            for tau in support.intersection(col_wo.keys()):          \n",
    "                redtau=(col_wo.get(tau,0)+v_mult.get(tau,0))%ttfc['coeff field'] #w-(w_{l}/v_{l})v term\n",
    "                if redtau==0:\n",
    "                    red.pop(tau)\n",
    "                else:\n",
    "                    red[tau]=redtau\n",
    "            reduced=red\n",
    "        #print('reduced column: '+str(reduced))\n",
    "        f[col]=frozenset(reduced.items()) #Apply transformation to lowv basis term\n",
    "        #print('supportUcol_wo: '+str(support.intersection(col_wo)))\n",
    "        for row in support.intersection(col_wo):\n",
    "            R[row].remove(col,col_wo[row])\n",
    "        if not f[col]: #only non-zero basis elements are remembered, so f extended to \\{i\\}\\mapsto 0 is then implied\n",
    "            f.pop(col) \n",
    "            keys.remove(col)\n",
    "            indices.pop(col)\n",
    "        else:\n",
    "            for row in support.intersection(reduced):\n",
    "                R[row].add((col, reduced[row])) \n",
    "    return (f,R,keys,indices)"
   ]
  },
  {
   "cell_type": "markdown",
   "metadata": {},
   "source": [
    "HomologyBasis Algorithm"
   ]
  },
  {
   "cell_type": "code",
   "execution_count": 9,
   "metadata": {},
   "outputs": [],
   "source": [
    "def HomologyBasis(XF,k=11):\n",
    "    ttfc=chain_complex_conversion(XF,k)\n",
    "    #print(ttfc)\n",
    "    deg,bound=ttfc['functions']\n",
    "    P=[0]\n",
    "    f={0:frozenset(((0, 1),))}\n",
    "    R={0:set(((0,1),))}\n",
    "    pairs=[]\n",
    "    keys=[0]\n",
    "    \n",
    "    for i in range(1,len(XF.keys())):\n",
    "        #print(' ')\n",
    "        sigma=ttfc['indices'][i]\n",
    "        index=ttfc['simplices'][sigma]\n",
    "        #print('simplex: '+str(sigma))\n",
    "        #print('prior basis: '+str(P))\n",
    "        \n",
    "        if len(sigma)==1:\n",
    "            P,f=homology_basis_extension(ttfc,P,f,i)\n",
    "            R[i]=set(((i,1),))\n",
    "            keys.append(i)\n",
    "            continue\n",
    "        \n",
    "        bub=boundary_under_basis(bound,keys,f,ttfc['coeff field'],i)\n",
    "        #print('f(\\partial\\sigma) :'+str(bub))\n",
    "        \n",
    "        if bub==False:#Extend\n",
    "            #print('Run extend')\n",
    "            P,f=homology_basis_extension(ttfc,P,f,i)\n",
    "            R[i]=set(((i,1),))\n",
    "            keys.append(i)\n",
    "            continue\n",
    "            \n",
    "        else:#Contract\n",
    "            #print('Run contract')\n",
    "            P,f,R,keys,ttfc['indices'],l=homology_basis_contraction(ttfc,bub,P,f,R,keys,ttfc['indices'],i)\n",
    "            pairs.append((l,i))\n",
    "        #print('R: '+str(R))\n",
    "    for j in P:\n",
    "        pairs.append((j,np.inf))\n",
    "    def first(e):\n",
    "        return e[0]\n",
    "    pairs.sort(key=first)\n",
    "    return P,f,pairs,ttfc"
   ]
  },
  {
   "cell_type": "code",
   "execution_count": 10,
   "metadata": {},
   "outputs": [],
   "source": [
    "HB=HomologyBasis(XF)"
   ]
  }
 ],
 "metadata": {
  "kernelspec": {
   "display_name": "Python 3",
   "language": "python",
   "name": "python3"
  },
  "language_info": {
   "codemirror_mode": {
    "name": "ipython",
    "version": 3
   },
   "file_extension": ".py",
   "mimetype": "text/x-python",
   "name": "python",
   "nbconvert_exporter": "python",
   "pygments_lexer": "ipython3",
   "version": "3.7.4"
  }
 },
 "nbformat": 4,
 "nbformat_minor": 2
}
